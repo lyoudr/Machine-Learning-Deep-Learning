{
 "cells": [
  {
   "cell_type": "code",
   "execution_count": 1,
   "metadata": {},
   "outputs": [
    {
     "name": "stdout",
     "output_type": "stream",
     "text": [
      "Self-attention output:\n",
      " [[0.38799283 0.53502878 0.13623257 0.75889379]\n",
      " [0.39492337 0.53118004 0.1382761  0.75593604]\n",
      " [0.39012207 0.53832171 0.12822185 0.75093991]]\n",
      "Attention weights:\n",
      " [[0.26820899 0.341926   0.38986501]\n",
      " [0.25100881 0.35895866 0.39003253]\n",
      " [0.25670316 0.31516267 0.42813417]]\n"
     ]
    }
   ],
   "source": [
    "import numpy as np \n",
    "\n",
    "def self_attention(Q, K, V, mask=None):\n",
    "    \"\"\"\n",
    "    Computes self-attention for the given query (Q), key (K), and value matrics.\n",
    "\n",
    "    Parameters:\n",
    "    - Q: Query matrix\n",
    "    - K: Key matrix\n",
    "    - V: Value matrix\n",
    "    - mask: Optional mask to ignore specific positions\n",
    "\n",
    "    Returns:\n",
    "    - The result of self-attention computation.\n",
    "    \"\"\"\n",
    "\n",
    "    # Step 1: Calculate scores by multiplying Q and K^T\n",
    "    scores = np.dot(Q, K.T)\n",
    "\n",
    "    # Step 2: Scale the scores \n",
    "    d_k = K.shape[1] # d_k is the dimension of the key vectors\n",
    "    scores /= np.sqrt(d_k)\n",
    "\n",
    "    # Step 3: Apply mask (if any) - mask should be broadcastable to scores shape\n",
    "    if mask is not None:\n",
    "        scores = np.where(mask, scores, -1e9) # large negative value for masked positions\n",
    "    \n",
    "    # Step 4: Softmax to get the attention weights\n",
    "    attention_weights = np.exp(scores)\n",
    "    attention_weights /= np.sum(attention_weights, axis=-1, keepdims=True)\n",
    "\n",
    "    # Step 5: Multiply the attention weights by the values\n",
    "    output = np.dot(attention_weights, V)\n",
    "\n",
    "    return output, attention_weights\n",
    "\n",
    "# Example usage:\n",
    "np.random.seed(0)\n",
    "Q = np.random.rand(3, 4) # 3 tokens, each with a 4-dimentional query vector\n",
    "K = np.random.rand(3, 4) # 3 tokens, each with a 4-dimentional key vector\n",
    "V = np.random.rand(3, 4) # 3 tokens, each with a 4-dimentional value vector\n",
    "\n",
    "output, attention_weights = self_attention(Q, K, V)\n",
    "\n",
    "print(\"Self-attention output:\\n\", output)\n",
    "print(\"Attention weights:\\n\", attention_weights)\n"
   ]
  },
  {
   "cell_type": "code",
   "execution_count": null,
   "metadata": {},
   "outputs": [],
   "source": []
  }
 ],
 "metadata": {
  "kernelspec": {
   "display_name": "ml_venv",
   "language": "python",
   "name": "python3"
  },
  "language_info": {
   "codemirror_mode": {
    "name": "ipython",
    "version": 3
   },
   "file_extension": ".py",
   "mimetype": "text/x-python",
   "name": "python",
   "nbconvert_exporter": "python",
   "pygments_lexer": "ipython3",
   "version": "3.12.7"
  }
 },
 "nbformat": 4,
 "nbformat_minor": 2
}
